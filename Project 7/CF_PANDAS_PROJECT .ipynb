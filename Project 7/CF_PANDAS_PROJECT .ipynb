{
 "cells": [
  {
   "cell_type": "code",
   "execution_count": 3,
   "id": "14a2f084",
   "metadata": {},
   "outputs": [],
   "source": [
    "#importing Pandas\n",
    "import pandas as pd"
   ]
  },
  {
   "cell_type": "code",
   "execution_count": 4,
   "id": "f03f7a0f",
   "metadata": {},
   "outputs": [
    {
     "ename": "FileNotFoundError",
     "evalue": "[Errno 2] No such file or directory: 'Ecommerce Purchases'",
     "output_type": "error",
     "traceback": [
      "\u001b[1;31m---------------------------------------------------------------------------\u001b[0m",
      "\u001b[1;31mFileNotFoundError\u001b[0m                         Traceback (most recent call last)",
      "\u001b[1;32m~\\AppData\\Local\\Temp/ipykernel_12896/1621681976.py\u001b[0m in \u001b[0;36m<module>\u001b[1;34m\u001b[0m\n\u001b[0;32m      1\u001b[0m \u001b[1;31m#Reading the CSV File\u001b[0m\u001b[1;33m\u001b[0m\u001b[1;33m\u001b[0m\u001b[0m\n\u001b[1;32m----> 2\u001b[1;33m \u001b[0mdataa\u001b[0m \u001b[1;33m=\u001b[0m \u001b[0mpd\u001b[0m\u001b[1;33m.\u001b[0m\u001b[0mread_csv\u001b[0m\u001b[1;33m(\u001b[0m\u001b[1;34m\"Ecommerce Purchases\"\u001b[0m\u001b[1;33m)\u001b[0m\u001b[1;33m\u001b[0m\u001b[1;33m\u001b[0m\u001b[0m\n\u001b[0m\u001b[0;32m      3\u001b[0m \u001b[0mdataa\u001b[0m\u001b[1;33m\u001b[0m\u001b[1;33m\u001b[0m\u001b[0m\n",
      "\u001b[1;32m~\\anaconda3\\lib\\site-packages\\pandas\\util\\_decorators.py\u001b[0m in \u001b[0;36mwrapper\u001b[1;34m(*args, **kwargs)\u001b[0m\n\u001b[0;32m    309\u001b[0m                     \u001b[0mstacklevel\u001b[0m\u001b[1;33m=\u001b[0m\u001b[0mstacklevel\u001b[0m\u001b[1;33m,\u001b[0m\u001b[1;33m\u001b[0m\u001b[1;33m\u001b[0m\u001b[0m\n\u001b[0;32m    310\u001b[0m                 )\n\u001b[1;32m--> 311\u001b[1;33m             \u001b[1;32mreturn\u001b[0m \u001b[0mfunc\u001b[0m\u001b[1;33m(\u001b[0m\u001b[1;33m*\u001b[0m\u001b[0margs\u001b[0m\u001b[1;33m,\u001b[0m \u001b[1;33m**\u001b[0m\u001b[0mkwargs\u001b[0m\u001b[1;33m)\u001b[0m\u001b[1;33m\u001b[0m\u001b[1;33m\u001b[0m\u001b[0m\n\u001b[0m\u001b[0;32m    312\u001b[0m \u001b[1;33m\u001b[0m\u001b[0m\n\u001b[0;32m    313\u001b[0m         \u001b[1;32mreturn\u001b[0m \u001b[0mwrapper\u001b[0m\u001b[1;33m\u001b[0m\u001b[1;33m\u001b[0m\u001b[0m\n",
      "\u001b[1;32m~\\anaconda3\\lib\\site-packages\\pandas\\io\\parsers\\readers.py\u001b[0m in \u001b[0;36mread_csv\u001b[1;34m(filepath_or_buffer, sep, delimiter, header, names, index_col, usecols, squeeze, prefix, mangle_dupe_cols, dtype, engine, converters, true_values, false_values, skipinitialspace, skiprows, skipfooter, nrows, na_values, keep_default_na, na_filter, verbose, skip_blank_lines, parse_dates, infer_datetime_format, keep_date_col, date_parser, dayfirst, cache_dates, iterator, chunksize, compression, thousands, decimal, lineterminator, quotechar, quoting, doublequote, escapechar, comment, encoding, encoding_errors, dialect, error_bad_lines, warn_bad_lines, on_bad_lines, delim_whitespace, low_memory, memory_map, float_precision, storage_options)\u001b[0m\n\u001b[0;32m    584\u001b[0m     \u001b[0mkwds\u001b[0m\u001b[1;33m.\u001b[0m\u001b[0mupdate\u001b[0m\u001b[1;33m(\u001b[0m\u001b[0mkwds_defaults\u001b[0m\u001b[1;33m)\u001b[0m\u001b[1;33m\u001b[0m\u001b[1;33m\u001b[0m\u001b[0m\n\u001b[0;32m    585\u001b[0m \u001b[1;33m\u001b[0m\u001b[0m\n\u001b[1;32m--> 586\u001b[1;33m     \u001b[1;32mreturn\u001b[0m \u001b[0m_read\u001b[0m\u001b[1;33m(\u001b[0m\u001b[0mfilepath_or_buffer\u001b[0m\u001b[1;33m,\u001b[0m \u001b[0mkwds\u001b[0m\u001b[1;33m)\u001b[0m\u001b[1;33m\u001b[0m\u001b[1;33m\u001b[0m\u001b[0m\n\u001b[0m\u001b[0;32m    587\u001b[0m \u001b[1;33m\u001b[0m\u001b[0m\n\u001b[0;32m    588\u001b[0m \u001b[1;33m\u001b[0m\u001b[0m\n",
      "\u001b[1;32m~\\anaconda3\\lib\\site-packages\\pandas\\io\\parsers\\readers.py\u001b[0m in \u001b[0;36m_read\u001b[1;34m(filepath_or_buffer, kwds)\u001b[0m\n\u001b[0;32m    480\u001b[0m \u001b[1;33m\u001b[0m\u001b[0m\n\u001b[0;32m    481\u001b[0m     \u001b[1;31m# Create the parser.\u001b[0m\u001b[1;33m\u001b[0m\u001b[1;33m\u001b[0m\u001b[0m\n\u001b[1;32m--> 482\u001b[1;33m     \u001b[0mparser\u001b[0m \u001b[1;33m=\u001b[0m \u001b[0mTextFileReader\u001b[0m\u001b[1;33m(\u001b[0m\u001b[0mfilepath_or_buffer\u001b[0m\u001b[1;33m,\u001b[0m \u001b[1;33m**\u001b[0m\u001b[0mkwds\u001b[0m\u001b[1;33m)\u001b[0m\u001b[1;33m\u001b[0m\u001b[1;33m\u001b[0m\u001b[0m\n\u001b[0m\u001b[0;32m    483\u001b[0m \u001b[1;33m\u001b[0m\u001b[0m\n\u001b[0;32m    484\u001b[0m     \u001b[1;32mif\u001b[0m \u001b[0mchunksize\u001b[0m \u001b[1;32mor\u001b[0m \u001b[0miterator\u001b[0m\u001b[1;33m:\u001b[0m\u001b[1;33m\u001b[0m\u001b[1;33m\u001b[0m\u001b[0m\n",
      "\u001b[1;32m~\\anaconda3\\lib\\site-packages\\pandas\\io\\parsers\\readers.py\u001b[0m in \u001b[0;36m__init__\u001b[1;34m(self, f, engine, **kwds)\u001b[0m\n\u001b[0;32m    809\u001b[0m             \u001b[0mself\u001b[0m\u001b[1;33m.\u001b[0m\u001b[0moptions\u001b[0m\u001b[1;33m[\u001b[0m\u001b[1;34m\"has_index_names\"\u001b[0m\u001b[1;33m]\u001b[0m \u001b[1;33m=\u001b[0m \u001b[0mkwds\u001b[0m\u001b[1;33m[\u001b[0m\u001b[1;34m\"has_index_names\"\u001b[0m\u001b[1;33m]\u001b[0m\u001b[1;33m\u001b[0m\u001b[1;33m\u001b[0m\u001b[0m\n\u001b[0;32m    810\u001b[0m \u001b[1;33m\u001b[0m\u001b[0m\n\u001b[1;32m--> 811\u001b[1;33m         \u001b[0mself\u001b[0m\u001b[1;33m.\u001b[0m\u001b[0m_engine\u001b[0m \u001b[1;33m=\u001b[0m \u001b[0mself\u001b[0m\u001b[1;33m.\u001b[0m\u001b[0m_make_engine\u001b[0m\u001b[1;33m(\u001b[0m\u001b[0mself\u001b[0m\u001b[1;33m.\u001b[0m\u001b[0mengine\u001b[0m\u001b[1;33m)\u001b[0m\u001b[1;33m\u001b[0m\u001b[1;33m\u001b[0m\u001b[0m\n\u001b[0m\u001b[0;32m    812\u001b[0m \u001b[1;33m\u001b[0m\u001b[0m\n\u001b[0;32m    813\u001b[0m     \u001b[1;32mdef\u001b[0m \u001b[0mclose\u001b[0m\u001b[1;33m(\u001b[0m\u001b[0mself\u001b[0m\u001b[1;33m)\u001b[0m\u001b[1;33m:\u001b[0m\u001b[1;33m\u001b[0m\u001b[1;33m\u001b[0m\u001b[0m\n",
      "\u001b[1;32m~\\anaconda3\\lib\\site-packages\\pandas\\io\\parsers\\readers.py\u001b[0m in \u001b[0;36m_make_engine\u001b[1;34m(self, engine)\u001b[0m\n\u001b[0;32m   1038\u001b[0m             )\n\u001b[0;32m   1039\u001b[0m         \u001b[1;31m# error: Too many arguments for \"ParserBase\"\u001b[0m\u001b[1;33m\u001b[0m\u001b[1;33m\u001b[0m\u001b[0m\n\u001b[1;32m-> 1040\u001b[1;33m         \u001b[1;32mreturn\u001b[0m \u001b[0mmapping\u001b[0m\u001b[1;33m[\u001b[0m\u001b[0mengine\u001b[0m\u001b[1;33m]\u001b[0m\u001b[1;33m(\u001b[0m\u001b[0mself\u001b[0m\u001b[1;33m.\u001b[0m\u001b[0mf\u001b[0m\u001b[1;33m,\u001b[0m \u001b[1;33m**\u001b[0m\u001b[0mself\u001b[0m\u001b[1;33m.\u001b[0m\u001b[0moptions\u001b[0m\u001b[1;33m)\u001b[0m  \u001b[1;31m# type: ignore[call-arg]\u001b[0m\u001b[1;33m\u001b[0m\u001b[1;33m\u001b[0m\u001b[0m\n\u001b[0m\u001b[0;32m   1041\u001b[0m \u001b[1;33m\u001b[0m\u001b[0m\n\u001b[0;32m   1042\u001b[0m     \u001b[1;32mdef\u001b[0m \u001b[0m_failover_to_python\u001b[0m\u001b[1;33m(\u001b[0m\u001b[0mself\u001b[0m\u001b[1;33m)\u001b[0m\u001b[1;33m:\u001b[0m\u001b[1;33m\u001b[0m\u001b[1;33m\u001b[0m\u001b[0m\n",
      "\u001b[1;32m~\\anaconda3\\lib\\site-packages\\pandas\\io\\parsers\\c_parser_wrapper.py\u001b[0m in \u001b[0;36m__init__\u001b[1;34m(self, src, **kwds)\u001b[0m\n\u001b[0;32m     49\u001b[0m \u001b[1;33m\u001b[0m\u001b[0m\n\u001b[0;32m     50\u001b[0m         \u001b[1;31m# open handles\u001b[0m\u001b[1;33m\u001b[0m\u001b[1;33m\u001b[0m\u001b[0m\n\u001b[1;32m---> 51\u001b[1;33m         \u001b[0mself\u001b[0m\u001b[1;33m.\u001b[0m\u001b[0m_open_handles\u001b[0m\u001b[1;33m(\u001b[0m\u001b[0msrc\u001b[0m\u001b[1;33m,\u001b[0m \u001b[0mkwds\u001b[0m\u001b[1;33m)\u001b[0m\u001b[1;33m\u001b[0m\u001b[1;33m\u001b[0m\u001b[0m\n\u001b[0m\u001b[0;32m     52\u001b[0m         \u001b[1;32massert\u001b[0m \u001b[0mself\u001b[0m\u001b[1;33m.\u001b[0m\u001b[0mhandles\u001b[0m \u001b[1;32mis\u001b[0m \u001b[1;32mnot\u001b[0m \u001b[1;32mNone\u001b[0m\u001b[1;33m\u001b[0m\u001b[1;33m\u001b[0m\u001b[0m\n\u001b[0;32m     53\u001b[0m \u001b[1;33m\u001b[0m\u001b[0m\n",
      "\u001b[1;32m~\\anaconda3\\lib\\site-packages\\pandas\\io\\parsers\\base_parser.py\u001b[0m in \u001b[0;36m_open_handles\u001b[1;34m(self, src, kwds)\u001b[0m\n\u001b[0;32m    220\u001b[0m         \u001b[0mLet\u001b[0m \u001b[0mthe\u001b[0m \u001b[0mreaders\u001b[0m \u001b[0mopen\u001b[0m \u001b[0mIOHandles\u001b[0m \u001b[0mafter\u001b[0m \u001b[0mthey\u001b[0m \u001b[0mare\u001b[0m \u001b[0mdone\u001b[0m \u001b[1;32mwith\u001b[0m \u001b[0mtheir\u001b[0m \u001b[0mpotential\u001b[0m \u001b[0mraises\u001b[0m\u001b[1;33m.\u001b[0m\u001b[1;33m\u001b[0m\u001b[1;33m\u001b[0m\u001b[0m\n\u001b[0;32m    221\u001b[0m         \"\"\"\n\u001b[1;32m--> 222\u001b[1;33m         self.handles = get_handle(\n\u001b[0m\u001b[0;32m    223\u001b[0m             \u001b[0msrc\u001b[0m\u001b[1;33m,\u001b[0m\u001b[1;33m\u001b[0m\u001b[1;33m\u001b[0m\u001b[0m\n\u001b[0;32m    224\u001b[0m             \u001b[1;34m\"r\"\u001b[0m\u001b[1;33m,\u001b[0m\u001b[1;33m\u001b[0m\u001b[1;33m\u001b[0m\u001b[0m\n",
      "\u001b[1;32m~\\anaconda3\\lib\\site-packages\\pandas\\io\\common.py\u001b[0m in \u001b[0;36mget_handle\u001b[1;34m(path_or_buf, mode, encoding, compression, memory_map, is_text, errors, storage_options)\u001b[0m\n\u001b[0;32m    700\u001b[0m         \u001b[1;32mif\u001b[0m \u001b[0mioargs\u001b[0m\u001b[1;33m.\u001b[0m\u001b[0mencoding\u001b[0m \u001b[1;32mand\u001b[0m \u001b[1;34m\"b\"\u001b[0m \u001b[1;32mnot\u001b[0m \u001b[1;32min\u001b[0m \u001b[0mioargs\u001b[0m\u001b[1;33m.\u001b[0m\u001b[0mmode\u001b[0m\u001b[1;33m:\u001b[0m\u001b[1;33m\u001b[0m\u001b[1;33m\u001b[0m\u001b[0m\n\u001b[0;32m    701\u001b[0m             \u001b[1;31m# Encoding\u001b[0m\u001b[1;33m\u001b[0m\u001b[1;33m\u001b[0m\u001b[0m\n\u001b[1;32m--> 702\u001b[1;33m             handle = open(\n\u001b[0m\u001b[0;32m    703\u001b[0m                 \u001b[0mhandle\u001b[0m\u001b[1;33m,\u001b[0m\u001b[1;33m\u001b[0m\u001b[1;33m\u001b[0m\u001b[0m\n\u001b[0;32m    704\u001b[0m                 \u001b[0mioargs\u001b[0m\u001b[1;33m.\u001b[0m\u001b[0mmode\u001b[0m\u001b[1;33m,\u001b[0m\u001b[1;33m\u001b[0m\u001b[1;33m\u001b[0m\u001b[0m\n",
      "\u001b[1;31mFileNotFoundError\u001b[0m: [Errno 2] No such file or directory: 'Ecommerce Purchases'"
     ]
    }
   ],
   "source": [
    "#Reading the CSV File\n",
    "dataa = pd.read_csv(\"Ecommerce Purchases\")\n",
    "dataa"
   ]
  },
  {
   "cell_type": "markdown",
   "id": "3b52e9bb",
   "metadata": {},
   "source": [
    "## 1. Display Top 10 Rows of the Data"
   ]
  },
  {
   "cell_type": "code",
   "execution_count": 5,
   "id": "96d432e0",
   "metadata": {},
   "outputs": [
    {
     "ename": "NameError",
     "evalue": "name 'dataa' is not defined",
     "output_type": "error",
     "traceback": [
      "\u001b[1;31m---------------------------------------------------------------------------\u001b[0m",
      "\u001b[1;31mNameError\u001b[0m                                 Traceback (most recent call last)",
      "\u001b[1;32m~\\AppData\\Local\\Temp/ipykernel_12896/622354018.py\u001b[0m in \u001b[0;36m<module>\u001b[1;34m\u001b[0m\n\u001b[1;32m----> 1\u001b[1;33m \u001b[0mdataa\u001b[0m\u001b[1;33m.\u001b[0m\u001b[0mhead\u001b[0m\u001b[1;33m(\u001b[0m\u001b[1;36m10\u001b[0m\u001b[1;33m)\u001b[0m\u001b[1;33m\u001b[0m\u001b[1;33m\u001b[0m\u001b[0m\n\u001b[0m",
      "\u001b[1;31mNameError\u001b[0m: name 'dataa' is not defined"
     ]
    }
   ],
   "source": [
    "dataa.head(10)"
   ]
  },
  {
   "cell_type": "markdown",
   "id": "3d24a6ae",
   "metadata": {},
   "source": [
    "## 2. Check the Last 10 rows of the Data"
   ]
  },
  {
   "cell_type": "code",
   "execution_count": null,
   "id": "8461bdcf",
   "metadata": {},
   "outputs": [],
   "source": [
    "dataa.tail(10)"
   ]
  },
  {
   "cell_type": "markdown",
   "id": "66560903",
   "metadata": {},
   "source": [
    "## 3. Check the data type of the column named \"CC Security Code\""
   ]
  },
  {
   "cell_type": "code",
   "execution_count": null,
   "id": "415eba41",
   "metadata": {},
   "outputs": [],
   "source": [
    "dataa['CC Security Code'].dtype"
   ]
  },
  {
   "cell_type": "markdown",
   "id": "8b91d80f",
   "metadata": {},
   "source": [
    "## 4. Check if any column contains null values"
   ]
  },
  {
   "cell_type": "code",
   "execution_count": null,
   "id": "ca88cb51",
   "metadata": {},
   "outputs": [],
   "source": [
    "dataa.isnull().sum()"
   ]
  },
  {
   "cell_type": "markdown",
   "id": "f1d81c85",
   "metadata": {},
   "source": [
    "## 5. Check the number of Rows and Columns in the DataSet"
   ]
  },
  {
   "cell_type": "code",
   "execution_count": null,
   "id": "4f171dca",
   "metadata": {},
   "outputs": [],
   "source": [
    "len(dataa) #for rows"
   ]
  },
  {
   "cell_type": "code",
   "execution_count": null,
   "id": "4691f25e",
   "metadata": {},
   "outputs": [],
   "source": [
    "len(dataa.columns)"
   ]
  },
  {
   "cell_type": "code",
   "execution_count": null,
   "id": "747ce656",
   "metadata": {},
   "outputs": [],
   "source": [
    "dataa.shape"
   ]
  },
  {
   "cell_type": "code",
   "execution_count": null,
   "id": "b75e4e00",
   "metadata": {},
   "outputs": [],
   "source": [
    "dataa.info()"
   ]
  },
  {
   "cell_type": "markdown",
   "id": "caace431",
   "metadata": {},
   "source": [
    "## 6. Check the Highest \"Purchase Price\" in the DataSet"
   ]
  },
  {
   "cell_type": "code",
   "execution_count": null,
   "id": "79c65332",
   "metadata": {},
   "outputs": [],
   "source": [
    "dataa[\"Purchase Price\"].max()"
   ]
  },
  {
   "cell_type": "markdown",
   "id": "909a7b65",
   "metadata": {},
   "source": [
    "## 7. Display the Lowest \"Purchase Price\" in the DataSet"
   ]
  },
  {
   "cell_type": "code",
   "execution_count": null,
   "id": "63a426b3",
   "metadata": {},
   "outputs": [],
   "source": [
    "dataa[[\"Purchase Price\",\"Email\"]].min()"
   ]
  },
  {
   "cell_type": "markdown",
   "id": "493bbac2",
   "metadata": {},
   "source": [
    "## 8. What is the Average Purchase Price so far?"
   ]
  },
  {
   "cell_type": "code",
   "execution_count": null,
   "id": "5de496b2",
   "metadata": {},
   "outputs": [],
   "source": [
    "dataa[\"Purchase Price\"].mean()"
   ]
  },
  {
   "cell_type": "markdown",
   "id": "7d99bde7",
   "metadata": {},
   "source": [
    "## 9. How many customers have French as their primary language?"
   ]
  },
  {
   "cell_type": "code",
   "execution_count": null,
   "id": "77995a90",
   "metadata": {},
   "outputs": [],
   "source": [
    "len(dataa[dataa[\"Language\"]==\"fr\"])"
   ]
  },
  {
   "cell_type": "markdown",
   "id": "f5c4da85",
   "metadata": {},
   "source": [
    "## 10. How many of our customers are any kind of Engineer?"
   ]
  },
  {
   "cell_type": "code",
   "execution_count": null,
   "id": "cd473658",
   "metadata": {},
   "outputs": [],
   "source": [
    "len(dataa[dataa[\"Job\"].str.contains('engineer',case=False)])"
   ]
  },
  {
   "cell_type": "markdown",
   "id": "fb3a849d",
   "metadata": {},
   "source": [
    "## 11. What is the Email address of the person having IP Address: 24.140.33.94"
   ]
  },
  {
   "cell_type": "code",
   "execution_count": null,
   "id": "1e093481",
   "metadata": {},
   "outputs": [],
   "source": [
    "dataa[dataa[\"IP Address\"]==\"24.140.33.94\"]['Email']"
   ]
  },
  {
   "cell_type": "markdown",
   "id": "0ed5549a",
   "metadata": {},
   "source": [
    "## 12. How many people have Mastercard as thier credit card provider and made a purchase above 50?"
   ]
  },
  {
   "cell_type": "code",
   "execution_count": null,
   "id": "4e42495a",
   "metadata": {},
   "outputs": [],
   "source": [
    "len(dataa[(dataa[\"CC Provider\"]==\"Mastercard\") & (dataa[\"Purchase Price\"]>50)])"
   ]
  },
  {
   "cell_type": "markdown",
   "id": "9c7f8c5d",
   "metadata": {},
   "source": [
    "## 13. Find the Email of the person with credit card number: 869968197049750"
   ]
  },
  {
   "cell_type": "code",
   "execution_count": null,
   "id": "9568f856",
   "metadata": {},
   "outputs": [],
   "source": [
    "dataa[dataa[\"Credit Card\"]==869968197049750]['Email']"
   ]
  },
  {
   "cell_type": "markdown",
   "id": "9ecb7814",
   "metadata": {},
   "source": [
    "## 14. How many people use credit cards during the Morning time?"
   ]
  },
  {
   "cell_type": "code",
   "execution_count": null,
   "id": "abface59",
   "metadata": {},
   "outputs": [],
   "source": [
    "len(dataa[dataa['AM or PM']==\"AM\"])"
   ]
  },
  {
   "cell_type": "markdown",
   "id": "9cfcb088",
   "metadata": {},
   "source": [
    "## 15. How many people use credit cards during the Night time?"
   ]
  },
  {
   "cell_type": "code",
   "execution_count": null,
   "id": "3efc764a",
   "metadata": {},
   "outputs": [],
   "source": [
    "len(dataa[dataa['AM or PM']==\"PM\"])"
   ]
  },
  {
   "cell_type": "markdown",
   "id": "54ed8b15",
   "metadata": {},
   "source": [
    "## 16. Number of people that are having a credit card that will expire in 2020. Also find their Email"
   ]
  },
  {
   "cell_type": "code",
   "execution_count": null,
   "id": "7cf0fdd2",
   "metadata": {},
   "outputs": [],
   "source": [
    "dataa[dataa[\"CC Exp Date\"].apply(lambda x: x[3:]==\"20\")]['Email'].head()"
   ]
  },
  {
   "cell_type": "markdown",
   "id": "8be4d155",
   "metadata": {},
   "source": [
    "## 17. Show the Top 5 email providers"
   ]
  },
  {
   "cell_type": "code",
   "execution_count": null,
   "id": "31e92459",
   "metadata": {},
   "outputs": [],
   "source": [
    "dataa[\"Email\"].apply(lambda x: x.split('@')[1]).value_counts().head()"
   ]
  },
  {
   "cell_type": "markdown",
   "id": "ac43fb3b",
   "metadata": {},
   "source": [
    "## 18. Print the Top 5 companies having the highest purchase prices"
   ]
  },
  {
   "cell_type": "code",
   "execution_count": null,
   "id": "57e5dd67",
   "metadata": {},
   "outputs": [],
   "source": [
    "dataa[['Company','Purchase Price']].nlargest(5,'Purchase Price').head()"
   ]
  },
  {
   "cell_type": "code",
   "execution_count": null,
   "id": "b02c773a",
   "metadata": {},
   "outputs": [],
   "source": []
  }
 ],
 "metadata": {
  "kernelspec": {
   "display_name": "Python 3 (ipykernel)",
   "language": "python",
   "name": "python3"
  },
  "language_info": {
   "codemirror_mode": {
    "name": "ipython",
    "version": 3
   },
   "file_extension": ".py",
   "mimetype": "text/x-python",
   "name": "python",
   "nbconvert_exporter": "python",
   "pygments_lexer": "ipython3",
   "version": "3.9.7"
  }
 },
 "nbformat": 4,
 "nbformat_minor": 5
}
