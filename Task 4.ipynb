{
 "cells": [
  {
   "cell_type": "code",
   "execution_count": 8,
   "id": "99e71435",
   "metadata": {},
   "outputs": [
    {
     "name": "stdout",
     "output_type": "stream",
     "text": [
      "Enter your equation: 11 / 3\n",
      "The sum of 11 and 3 is 3.6666666666666665\n"
     ]
    }
   ],
   "source": [
    "def add(a,b):\n",
    "    addition = a + b\n",
    "    print(f\"The sum of {a} and {b} is {addition}\") #formatted strings\n",
    "\n",
    "def subtract(a,b):\n",
    "    subtraction = a - b\n",
    "    print(f\"The result of subtracting {b} from {a} is {subtraction}\")\n",
    "\n",
    "def multiply(a,b):\n",
    "    multiplication = a * b\n",
    "    print(f\"The multiplication of {a} and {b} is {multiplication}\")\n",
    "\n",
    "def division(a,b):\n",
    "    division = a / b\n",
    "    print(f\"The sum of {a} and {b} is {division}\")\n",
    "\n",
    "# accepting multiple inputs in a single\n",
    "number1,operator,number2 = map(str, input(\"Enter your equation: \").split()) # 8 / 9\n",
    "number1 = int(number1)\n",
    "number2 = int(number2)\n",
    "\n",
    "if operator == '+':\n",
    "    add(number1,number2)\n",
    "    \n",
    "elif operator == '-':\n",
    "    subtract(number1,number2)\n",
    "    \n",
    "elif operator == '*':\n",
    "    multiply(number1,number2)\n",
    "    \n",
    "elif operator == '/':\n",
    "    division(number1,number2)\n",
    "    \n",
    "else:\n",
    "    print(\"Invalid Typo Error! Type something like - 8 / 4\")\n",
    "    \n",
    "\n",
    "# add a function here which accepts the modulus operator '%' - 10%3 == 1\n"
   ]
  },
  {
   "cell_type": "code",
   "execution_count": null,
   "id": "ddf5d0e1",
   "metadata": {},
   "outputs": [],
   "source": []
  }
 ],
 "metadata": {
  "kernelspec": {
   "display_name": "Python 3 (ipykernel)",
   "language": "python",
   "name": "python3"
  },
  "language_info": {
   "codemirror_mode": {
    "name": "ipython",
    "version": 3
   },
   "file_extension": ".py",
   "mimetype": "text/x-python",
   "name": "python",
   "nbconvert_exporter": "python",
   "pygments_lexer": "ipython3",
   "version": "3.9.7"
  }
 },
 "nbformat": 4,
 "nbformat_minor": 5
}
