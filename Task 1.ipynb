{
 "cells": [
  {
   "cell_type": "markdown",
   "id": "e192a46c",
   "metadata": {},
   "source": [
    "# Task1: Student's Portfolio\n"
   ]
  },
  {
   "cell_type": "code",
   "execution_count": 1,
   "id": "e22a9bb7",
   "metadata": {},
   "outputs": [
    {
     "name": "stdout",
     "output_type": "stream",
     "text": [
      "Enter your FirstName \n",
      "Manish\n",
      "Enter your LastName \n",
      "Bhati\n",
      "Enter your Class \n",
      "12\n",
      "Enter your Division \n",
      "B\n",
      "Enter your Roll No: \n",
      "22\n",
      "Enter Subject1 \n",
      "Maths\n",
      "Enter Subject2 \n",
      "English\n",
      "Enter Subject3 \n",
      "Hindi\n",
      "Enter Percentage \n",
      "75\n"
     ]
    }
   ],
   "source": [
    "firstName = str(input(\"Enter your FirstName \\n\"))\n",
    "lastName = str(input(\"Enter your LastName \\n\"))\n",
    "std = int(input(\"Enter your Class \\n\"))\n",
    "division = str(input(\"Enter your Division \\n\"))\n",
    "rollNo = int(input(\"Enter your Roll No: \\n\"))\n",
    "sub1 = str(input(\"Enter Subject1 \\n\"))\n",
    "sub2 = str(input(\"Enter Subject2 \\n\"))\n",
    "sub3 = str(input(\"Enter Subject3 \\n\"))\n",
    "studentPercent = float(input(\"Enter Percentage \\n\"))"
   ]
  },
  {
   "cell_type": "code",
   "execution_count": 4,
   "id": "398613e6",
   "metadata": {},
   "outputs": [
    {
     "name": "stdout",
     "output_type": "stream",
     "text": [
      "Student Details\n",
      "***************\n",
      "\n",
      "The First Name of the Student is : Manish\n",
      "The First Name of the Student is : Bhati\n",
      "Hello MANISH BHATI\n",
      "\n",
      "**********\n",
      "\n",
      "MANISH is in 12  Class & B Division. \n",
      "Roll No : 22\n",
      "MANISH has chosen the below 3 Subjects\n",
      "Subject 1 : Maths\n",
      "Subject 2 : English\n",
      "Subject 3 : Hindi\n",
      "MANISH has scored 75.0 in the Final Exam.\n",
      "\n",
      "**********\n",
      "\n",
      "Congratulations & Have a successful year ahead.\n",
      "\n",
      "**********\n"
     ]
    }
   ],
   "source": [
    "print(\"Student Details\")\n",
    "print(\"*\"*15+\"\\n\")\n",
    "print(\"The First Name of the Student is : \"+firstName)\n",
    "print(\"The First Name of the Student is : \"+lastName)\n",
    "print(\"Hello \"+firstName.upper()+\" \"+lastName.upper())\n",
    "\n",
    "print(\"\\n\"+\"*\"*10+\"\\n\")\n",
    "print(firstName.upper()+\" is in \"+str(std),\" Class & \"+division.upper()+\" Division. \")\n",
    "print(\"Roll No : \"+str(rollNo))\n",
    "print(firstName.upper()+\" has chosen the below 3 Subjects\")\n",
    "\n",
    "print(\"Subject 1 : \"+sub1)\n",
    "print(\"Subject 2 : \"+sub2)\n",
    "print(\"Subject 3 : \"+sub3)\n",
    "print(firstName.upper()+\" has scored \"+str(studentPercent)+\" in the Final Exam.\")\n",
    "      \n",
    "print(\"\\n\"+\"*\"*10+\"\\n\")\n",
    "print(\"Congratulations & Have a successful year ahead.\")\n",
    "print(\"\\n\"+\"*\"*10)\n",
    "      \n",
    "      \n"
   ]
  },
  {
   "cell_type": "code",
   "execution_count": null,
   "id": "12631b85",
   "metadata": {},
   "outputs": [],
   "source": []
  },
  {
   "cell_type": "code",
   "execution_count": null,
   "id": "a39b3d78",
   "metadata": {},
   "outputs": [],
   "source": []
  }
 ],
 "metadata": {
  "kernelspec": {
   "display_name": "Python 3 (ipykernel)",
   "language": "python",
   "name": "python3"
  },
  "language_info": {
   "codemirror_mode": {
    "name": "ipython",
    "version": 3
   },
   "file_extension": ".py",
   "mimetype": "text/x-python",
   "name": "python",
   "nbconvert_exporter": "python",
   "pygments_lexer": "ipython3",
   "version": "3.9.7"
  }
 },
 "nbformat": 4,
 "nbformat_minor": 5
}
