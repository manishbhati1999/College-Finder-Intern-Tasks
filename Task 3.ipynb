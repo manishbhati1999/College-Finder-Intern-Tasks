{
 "cells": [
  {
   "cell_type": "code",
   "execution_count": 1,
   "id": "19599371",
   "metadata": {},
   "outputs": [
    {
     "name": "stdout",
     "output_type": "stream",
     "text": [
      "Multiplication Tables\n",
      "Enter the number of your choice\n",
      "15\n",
      "********************\n",
      "15 x 1 = 15\n",
      "15 x 2 = 30\n",
      "15 x 3 = 45\n",
      "15 x 4 = 60\n",
      "15 x 5 = 75\n",
      "15 x 6 = 90\n",
      "15 x 7 = 105\n",
      "15 x 8 = 120\n",
      "15 x 9 = 135\n",
      "15 x 10 = 150\n",
      "15 x 11 = 165\n",
      "15 x 12 = 180\n",
      "********************\n"
     ]
    }
   ],
   "source": [
    "print('Multiplication Tables')\n",
    "num = int(input('Enter the number of your choice\\n'))\n",
    "print('*'*20)\n",
    "x = 1\n",
    "while(x<=12):\n",
    "    print(num, 'x',x, '=',x*num)\n",
    "    x = x+1\n",
    "print('*'*20)    "
   ]
  },
  {
   "cell_type": "code",
   "execution_count": null,
   "id": "7c38ac8c",
   "metadata": {},
   "outputs": [],
   "source": []
  }
 ],
 "metadata": {
  "kernelspec": {
   "display_name": "Python 3 (ipykernel)",
   "language": "python",
   "name": "python3"
  },
  "language_info": {
   "codemirror_mode": {
    "name": "ipython",
    "version": 3
   },
   "file_extension": ".py",
   "mimetype": "text/x-python",
   "name": "python",
   "nbconvert_exporter": "python",
   "pygments_lexer": "ipython3",
   "version": "3.9.7"
  }
 },
 "nbformat": 4,
 "nbformat_minor": 5
}
